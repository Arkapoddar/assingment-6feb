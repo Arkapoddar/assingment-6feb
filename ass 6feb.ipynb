{
 "cells": [
  {
   "cell_type": "code",
   "execution_count": 8,
   "id": "1962c0bc-b55c-4df7-b9d0-bb74f0433adc",
   "metadata": {},
   "outputs": [
    {
     "name": "stdout",
     "output_type": "stream",
     "text": [
      "\n"
     ]
    }
   ],
   "source": [
    "#1>\n",
    "def multiply_numbers(lst):\n",
    "    # flatten the list\n",
    "    flattened_lst = []\n",
    "    for item in lst:\n",
    "        if isinstance(item, (list, tuple, set)):\n",
    "            flattened_lst.extend(item)\n",
    "        elif isinstance(item, dict):\n",
    "            for key, value in item.items():\n",
    "                if isinstance(key, (int, float)):\n",
    "                    flattened_lst.append(key)\n",
    "                if isinstance(value, (int, float)):\n",
    "                    flattened_lst.append(value)\n",
    "        elif isinstance(item, (int, float)):\n",
    "            flattened_lst.append(item)\n",
    "\n",
    "    # calculate the product of all numbers in the flattened list\n",
    "    product = 1\n",
    "    for num in flattened_lst:\n",
    "        product *= num\n",
    "\n",
    "    return product\n",
    "\n",
    "list1 = [1,2,3,4, [44,55,66, True], False, (34,56,78,89,34), {1,2,3,3,2,1}, {1:34, \"key2\": [55, 67, 78, 89], 4: (45, 22, 61, 34)}, [56, 'data science'], 'Machine Learning']\n",
    "\n",
    "result = multiply_numbers(list1)\n",
    "print(result)\n"
   ]
  },
  {
   "cell_type": "code",
   "execution_count": null,
   "id": "676e757b-f4cc-4978-b830-10369f73580d",
   "metadata": {},
   "outputs": [],
   "source": []
  },
  {
   "cell_type": "code",
   "execution_count": null,
   "id": "b0d25ad6-df32-4623-9545-0b1c2db01c20",
   "metadata": {},
   "outputs": [],
   "source": []
  }
 ],
 "metadata": {
  "kernelspec": {
   "display_name": "Python 3 (ipykernel)",
   "language": "python",
   "name": "python3"
  },
  "language_info": {
   "codemirror_mode": {
    "name": "ipython",
    "version": 3
   },
   "file_extension": ".py",
   "mimetype": "text/x-python",
   "name": "python",
   "nbconvert_exporter": "python",
   "pygments_lexer": "ipython3",
   "version": "3.10.8"
  }
 },
 "nbformat": 4,
 "nbformat_minor": 5
}
